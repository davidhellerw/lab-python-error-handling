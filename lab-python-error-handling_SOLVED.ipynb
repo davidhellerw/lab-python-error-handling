{
 "cells": [
  {
   "cell_type": "markdown",
   "id": "25d7736c-ba17-4aff-b6bb-66eba20fbf4e",
   "metadata": {},
   "source": [
    "# Lab | Error Handling"
   ]
  },
  {
   "cell_type": "markdown",
   "id": "bc99b386-7508-47a0-bcdb-d969deaf6c8b",
   "metadata": {},
   "source": [
    "## Exercise: Error Handling for Managing Customer Orders\n",
    "\n",
    "The implementation of your code for managing customer orders assumes that the user will always enter a valid input. \n",
    "\n",
    "For example, we could modify the `initialize_inventory` function to include error handling.\n",
    "   - If the user enters an invalid quantity (e.g., a negative value or a non-numeric value), display an error message and ask them to re-enter the quantity for that product.\n",
    "   - Use a try-except block to handle the error and continue prompting the user until a valid quantity is entered.\n",
    "\n",
    "```python\n",
    "# Step 1: Define the function for initializing the inventory with error handling\n",
    "def initialize_inventory(products):\n",
    "    inventory = {}\n",
    "    for product in products:\n",
    "        valid_quantity = False\n",
    "        while not valid_quantity:\n",
    "            try:\n",
    "                quantity = int(input(f\"Enter the quantity of {product}s available: \"))\n",
    "                if quantity < 0:\n",
    "                    raise ValueError(\"Invalid quantity! Please enter a non-negative value.\")\n",
    "                valid_quantity = True\n",
    "            except ValueError as error:\n",
    "                print(f\"Error: {error}\")\n",
    "        inventory[product] = quantity\n",
    "    return inventory\n",
    "\n",
    "# Or, in another way:\n",
    "\n",
    "def initialize_inventory(products):\n",
    "    inventory = {}\n",
    "    for product in products:\n",
    "        valid_input = False\n",
    "        while not valid_input:\n",
    "            try:\n",
    "                quantity = int(input(f\"Enter the quantity of {product}s available: \"))\n",
    "                if quantity >= 0:\n",
    "                    inventory[product] = quantity\n",
    "                    valid_input = True\n",
    "                else:\n",
    "                    print(\"Quantity cannot be negative. Please enter a valid quantity.\")\n",
    "            except ValueError:\n",
    "                print(\"Invalid input. Please enter a valid quantity.\")\n",
    "    return inventory\n",
    "```\n",
    "\n",
    "Let's enhance your code by implementing error handling to handle invalid inputs.\n",
    "\n",
    "Follow the steps below to complete the exercise:\n",
    "\n",
    "2. Modify the `calculate_total_price` function to include error handling.\n",
    "   - If the user enters an invalid price (e.g., a negative value or a non-numeric value), display an error message and ask them to re-enter the price for that product.\n",
    "   - Use a try-except block to handle the error and continue prompting the user until a valid price is entered.\n",
    "\n",
    "3. Modify the `get_customer_orders` function to include error handling.\n",
    "   - If the user enters an invalid number of orders (e.g., a negative value or a non-numeric value), display an error message and ask them to re-enter the number of orders.\n",
    "   - If the user enters an invalid product name (e.g., a product name that is not in the inventory), or that doesn't have stock available, display an error message and ask them to re-enter the product name. *Hint: you will need to pass inventory as a parameter*\n",
    "   - Use a try-except block to handle the error and continue prompting the user until a valid product name is entered.\n",
    "\n",
    "4. Test your code by running the program and deliberately entering invalid quantities and product names. Make sure the error handling mechanism works as expected.\n"
   ]
  },
  {
   "cell_type": "code",
   "execution_count": 1,
   "id": "7a4a0640",
   "metadata": {},
   "outputs": [],
   "source": [
    "products = [\"t-shirt\", \"mug\", \"hat\", \"book\", \"keychain\"]"
   ]
  },
  {
   "cell_type": "code",
   "execution_count": 2,
   "id": "b19f3881",
   "metadata": {},
   "outputs": [],
   "source": [
    "def initialize_inventory(products):\n",
    "    inventory = {}\n",
    "    for product in products:\n",
    "        valid_input = False\n",
    "        while not valid_input:\n",
    "            try:\n",
    "                quantity = int(input(f\"Enter the quantity of {product}s available: \"))\n",
    "                if quantity >= 0:\n",
    "                    inventory[product] = quantity\n",
    "                    valid_input = True\n",
    "                else:\n",
    "                    print(\"Quantity cannot be negative. Please enter a valid quantity.\")\n",
    "            except ValueError:\n",
    "                print(\"Invalid input. Please enter a valid quantity.\")\n",
    "    return inventory"
   ]
  },
  {
   "cell_type": "code",
   "execution_count": 3,
   "id": "3d94bda1",
   "metadata": {},
   "outputs": [
    {
     "name": "stdout",
     "output_type": "stream",
     "text": [
      "Enter the quantity of t-shirts available: 5\n",
      "Enter the quantity of mugs available: 5\n",
      "Enter the quantity of hats available: 5\n",
      "Enter the quantity of books available: 5\n",
      "Enter the quantity of keychains available: 5\n"
     ]
    },
    {
     "data": {
      "text/plain": [
       "{'t-shirt': 5, 'mug': 5, 'hat': 5, 'book': 5, 'keychain': 5}"
      ]
     },
     "execution_count": 3,
     "metadata": {},
     "output_type": "execute_result"
    }
   ],
   "source": [
    "inventory = initialize_inventory(products)\n",
    "inventory"
   ]
  },
  {
   "cell_type": "code",
   "execution_count": 16,
   "id": "0a81f6a1",
   "metadata": {},
   "outputs": [],
   "source": [
    "def get_customer_orders(inventory):\n",
    "    while True:\n",
    "        try:\n",
    "            number_of_orders = int(input(\"Enter the number of customer orders: \"))\n",
    "            if number_of_orders <= 0:\n",
    "                raise ValueError(\"Invalid number of orders. Please enter a positive integer.\")\n",
    "            \n",
    "            customer_orders = set()\n",
    "            while len(customer_orders) < number_of_orders:\n",
    "                product_name = input(\"Enter the name of a product that a customer wants to order: \")\n",
    "                if product_name not in inventory:\n",
    "                    print(\"Error: Product not found in inventory. Please enter a valid product name.\")\n",
    "                    continue\n",
    "                if inventory[product_name] == 0:\n",
    "                    print(\"Error: Product is out of stock. Please enter a different product.\")\n",
    "                    continue\n",
    "                customer_orders.add(product_name)\n",
    "\n",
    "            return customer_orders\n",
    "        except ValueError as error:\n",
    "                print(f\"Error: Please enter a valid number of orders.\")"
   ]
  },
  {
   "cell_type": "code",
   "execution_count": 17,
   "id": "e149289d",
   "metadata": {},
   "outputs": [
    {
     "name": "stdout",
     "output_type": "stream",
     "text": [
      "Enter the number of customer orders: -7\n",
      "Error: Please enter a valid number of orders.\n",
      "Enter the number of customer orders: h\n",
      "Error: Please enter a valid number of orders.\n",
      "Enter the number of customer orders: 1\n",
      "Enter the name of a product that a customer wants to order: mug\n"
     ]
    }
   ],
   "source": [
    "customer_orders = get_customer_orders(inventory)"
   ]
  },
  {
   "cell_type": "code",
   "execution_count": 11,
   "id": "456d352b",
   "metadata": {},
   "outputs": [
    {
     "name": "stdout",
     "output_type": "stream",
     "text": [
      "{'mug'}\n"
     ]
    }
   ],
   "source": [
    "print(customer_orders)"
   ]
  },
  {
   "cell_type": "code",
   "execution_count": null,
   "id": "d093569d",
   "metadata": {},
   "outputs": [],
   "source": [
    "def total_price(customer_orders):\n",
    "    total_price = []\n",
    "    for product in customer_orders:\n",
    "        valid_price = False\n",
    "        while not valid_price:\n",
    "            try:\n",
    "                input_price = float(input(f\"Enter the price of the {product}: \"))\n",
    "                if input_price < 0:\n",
    "                    raise ValueError(\"Invalid price! Please enter a non-negative value.\")\n",
    "                valid_price = True\n",
    "            except ValueError as error:\n",
    "                if \"non-negative\" in str(error):  # Check if the error message contains \"non-negative\"\n",
    "                    print(error)  # Print specific error message for negative numbers\n",
    "                else:\n",
    "                    print(\"Please enter a valid price\")  # Generic error message for other invalid inputs\n",
    "        total_price.append(input_price)\n",
    "    return sum(total_price)"
   ]
  },
  {
   "cell_type": "code",
   "execution_count": null,
   "id": "d835bcdb",
   "metadata": {},
   "outputs": [],
   "source": [
    "total_price = total_price(customer_orders)"
   ]
  },
  {
   "cell_type": "code",
   "execution_count": null,
   "id": "a85a1851",
   "metadata": {},
   "outputs": [],
   "source": [
    "#I prefer this rather than a one line dictionary comprehension because it is harder to read.\n",
    "def update_inventory(customer_orders, inventory):\n",
    "    for product in customer_orders:\n",
    "        inventory[product] -= 1\n",
    "    if inventory[product] < 1:\n",
    "        inventory.pop(product)\n",
    "    return inventory"
   ]
  },
  {
   "cell_type": "code",
   "execution_count": null,
   "id": "a6c3e149",
   "metadata": {},
   "outputs": [],
   "source": [
    "update_inventory(customer_orders, inventory)"
   ]
  },
  {
   "cell_type": "code",
   "execution_count": null,
   "id": "9d7eb6f8",
   "metadata": {},
   "outputs": [],
   "source": [
    "def calculate_order_statistics(customer_orders, products):\n",
    "    total_products_ordered = len(customer_orders)\n",
    "    percentage_of_products_ordered = (total_products_ordered / len(products)) * 100\n",
    "    order_statistics = total_products_ordered, percentage_of_products_ordered\n",
    "    return order_statistics"
   ]
  },
  {
   "cell_type": "code",
   "execution_count": null,
   "id": "b9525159",
   "metadata": {},
   "outputs": [],
   "source": [
    "order_statistics = calculate_order_statistics(customer_orders, products)"
   ]
  },
  {
   "cell_type": "code",
   "execution_count": null,
   "id": "b9d8783d",
   "metadata": {},
   "outputs": [],
   "source": [
    "def print_order_statistics(order_statistics):\n",
    "    total_products_ordered, percentage_of_products_ordered = order_statistics\n",
    "    print(f\"Total products ordered: {total_products_ordered}. Percentage of products ordered: {percentage_of_products_ordered}%\")"
   ]
  },
  {
   "cell_type": "code",
   "execution_count": null,
   "id": "96023dd4",
   "metadata": {},
   "outputs": [],
   "source": [
    "print_order_statistics(order_statistics)"
   ]
  },
  {
   "cell_type": "code",
   "execution_count": null,
   "id": "e48b7ba4",
   "metadata": {},
   "outputs": [],
   "source": [
    "def print_updated_inventory(inventory):\n",
    "    print(\"Updated inventory:\")\n",
    "    for product, quantity in inventory.items():\n",
    "        print(f\"{product}: {quantity}\")"
   ]
  },
  {
   "cell_type": "code",
   "execution_count": null,
   "id": "41fe1be0",
   "metadata": {},
   "outputs": [],
   "source": [
    "print_updated_inventory(inventory)"
   ]
  },
  {
   "cell_type": "code",
   "execution_count": null,
   "id": "428e784e",
   "metadata": {},
   "outputs": [],
   "source": [
    "print(f\"Total order price: ${total_price}.\")"
   ]
  },
  {
   "cell_type": "markdown",
   "id": "0212e7ce",
   "metadata": {},
   "source": [
    "Full program:"
   ]
  },
  {
   "cell_type": "code",
   "execution_count": 19,
   "id": "c3716b33",
   "metadata": {},
   "outputs": [
    {
     "name": "stdout",
     "output_type": "stream",
     "text": [
      "Enter the quantity of t-shirts available: 5\n",
      "Enter the quantity of mugs available: 1\n",
      "Enter the quantity of hats available: 5\n",
      "Enter the quantity of books available: 5\n",
      "Enter the quantity of keychains available: 5\n",
      "Enter the number of customer orders: 2\n",
      "Enter the name of a product that a customer wants to order: mug\n",
      "Enter the name of a product that a customer wants to order: book\n",
      "Enter the price of the book: h\n",
      "Please enter a valid price\n",
      "Enter the price of the book: -1\n",
      "Invalid price! Please enter a non-negative value.\n",
      "Enter the price of the book: 5\n",
      "Enter the price of the mug: 6\n",
      "Total products ordered: 2. Percentage of products ordered: 40.0%\n",
      "Updated inventory:\n",
      "t-shirt: 5\n",
      "hat: 5\n",
      "book: 4\n",
      "keychain: 5\n",
      "Total order price: $11.0.\n"
     ]
    }
   ],
   "source": [
    "products = [\"t-shirt\", \"mug\", \"hat\", \"book\", \"keychain\"]\n",
    "\n",
    "def initialize_inventory(products):\n",
    "    inventory = {}\n",
    "    for product in products:\n",
    "        valid_input = False\n",
    "        while not valid_input:\n",
    "            try:\n",
    "                quantity = int(input(f\"Enter the quantity of {product}s available: \"))\n",
    "                if quantity >= 0:\n",
    "                    inventory[product] = quantity\n",
    "                    valid_input = True\n",
    "                else:\n",
    "                    print(\"Quantity cannot be negative. Please enter a valid quantity.\")\n",
    "            except ValueError:\n",
    "                print(\"Invalid input. Please enter a valid quantity.\")\n",
    "    return inventory\n",
    "\n",
    "inventory = initialize_inventory(products)\n",
    "\n",
    "def get_customer_orders(inventory):\n",
    "    while True:\n",
    "        try:\n",
    "            number_of_orders = int(input(\"Enter the number of customer orders: \"))\n",
    "            if number_of_orders <= 0:\n",
    "                raise ValueError(\"Invalid number of orders. Please enter a positive integer.\")\n",
    "            \n",
    "            customer_orders = set()\n",
    "            while len(customer_orders) < number_of_orders:\n",
    "                product_name = input(\"Enter the name of a product that a customer wants to order: \")\n",
    "                if product_name not in inventory:\n",
    "                    print(\"Error: Product not found in inventory. Please enter a valid product name.\")\n",
    "                    continue\n",
    "                if inventory[product_name] == 0:\n",
    "                    print(\"Error: Product is out of stock. Please enter a different product.\")\n",
    "                    continue\n",
    "                customer_orders.add(product_name)\n",
    "\n",
    "            return customer_orders\n",
    "        except ValueError as error:\n",
    "                print(f\"Error: Please enter a valid number of orders.\")\n",
    "\n",
    "customer_orders = get_customer_orders(inventory)\n",
    "\n",
    "def total_price(customer_orders):\n",
    "    total_price = []\n",
    "    for product in customer_orders:\n",
    "        valid_price = False\n",
    "        while not valid_price:\n",
    "            try:\n",
    "                input_price = float(input(f\"Enter the price of the {product}: \"))\n",
    "                if input_price < 0:\n",
    "                    raise ValueError(\"Invalid price! Please enter a non-negative value.\")\n",
    "                valid_price = True\n",
    "            except ValueError as error:\n",
    "                if \"non-negative\" in str(error):  # Check if the error message contains \"non-negative\"\n",
    "                    print(error)  # Print specific error message for negative numbers\n",
    "                else:\n",
    "                    print(\"Please enter a valid price\")  # Generic error message for other invalid inputs\n",
    "        total_price.append(input_price)\n",
    "    return sum(total_price)\n",
    "\n",
    "total_price = total_price(customer_orders)\n",
    "\n",
    "def update_inventory(customer_orders, inventory):\n",
    "    for product in customer_orders:\n",
    "        inventory[product] -= 1\n",
    "    if inventory[product] < 1:\n",
    "        inventory.pop(product)\n",
    "    return inventory\n",
    "\n",
    "update_inventory(customer_orders, inventory)\n",
    "\n",
    "def calculate_order_statistics(customer_orders, products):\n",
    "    total_products_ordered = len(customer_orders)\n",
    "    percentage_of_products_ordered = (total_products_ordered / len(products)) * 100\n",
    "    order_statistics = total_products_ordered, percentage_of_products_ordered\n",
    "    return order_statistics\n",
    "\n",
    "order_statistics = calculate_order_statistics(customer_orders, products)\n",
    "\n",
    "def print_order_statistics(order_statistics):\n",
    "    total_products_ordered, percentage_of_products_ordered = order_statistics\n",
    "    print(f\"Total products ordered: {total_products_ordered}. Percentage of products ordered: {percentage_of_products_ordered}%\")\n",
    "    \n",
    "print_order_statistics(order_statistics)\n",
    "\n",
    "def print_updated_inventory(inventory):\n",
    "    print(\"Updated inventory:\")\n",
    "    for product, quantity in inventory.items():\n",
    "        print(f\"{product}: {quantity}\")\n",
    "    \n",
    "print_updated_inventory(inventory)\n",
    "\n",
    "print(f\"Total order price: ${total_price}.\")\n"
   ]
  }
 ],
 "metadata": {
  "kernelspec": {
   "display_name": "Python 3 (ipykernel)",
   "language": "python",
   "name": "python3"
  },
  "language_info": {
   "codemirror_mode": {
    "name": "ipython",
    "version": 3
   },
   "file_extension": ".py",
   "mimetype": "text/x-python",
   "name": "python",
   "nbconvert_exporter": "python",
   "pygments_lexer": "ipython3",
   "version": "3.11.7"
  }
 },
 "nbformat": 4,
 "nbformat_minor": 5
}
